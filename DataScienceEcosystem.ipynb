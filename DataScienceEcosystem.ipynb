{
 "cells": [
  {
   "cell_type": "markdown",
   "id": "655319cd",
   "metadata": {},
   "source": [
    "# Data Science Tools and Ecosystem\n",
    "\n"
   ]
  },
  {
   "cell_type": "markdown",
   "id": "8eb0fb77",
   "metadata": {},
   "source": [
    "**Objectives:**\n",
    "- To know the popular languages that Data Scientists use\n",
    "- To understand the commonly used libraries by Data Scientists\n",
    "- To know the tools used by Data Scientists\n",
    "- To understand how to create tables in Jupyter Notebooks\n",
    "- To evaluate arithmetic expressions in Python\n",
    "    "
   ]
  },
  {
   "cell_type": "markdown",
   "id": "9e23d2a3",
   "metadata": {},
   "source": [
    "In this notebook, Data Science Tools and Ecosystem are summarized.\n"
   ]
  },
  {
   "cell_type": "markdown",
   "id": "d230a5ee",
   "metadata": {},
   "source": [
    "Some of the popular languages that Data Scientists use are:\n",
    "1. Python\n",
    "2. R\n",
    "3. SQL\n",
    "4. C/C++\n",
    "5. Java"
   ]
  },
  {
   "cell_type": "markdown",
   "id": "415c3922",
   "metadata": {},
   "source": [
    "Some of the commonly used libraries used by Data Scientists include:\n",
    "1. Pandas\n",
    "2. Numpy \n",
    "3. Matplotlib\n",
    "4. TensorFlow\n",
    "5. Pytorch"
   ]
  },
  {
   "cell_type": "markdown",
   "id": "a5bef583",
   "metadata": {},
   "source": [
    "| Data Science Tools|\n",
    "|:--------:|\n",
    "| Jupyter |\n",
    "| Apache Zeppelin |\n",
    "| R studio|"
   ]
  },
  {
   "cell_type": "markdown",
   "id": "8a68964f",
   "metadata": {},
   "source": [
    "### Below are a few examples of evaluating arithmetic expressions in Python "
   ]
  },
  {
   "cell_type": "code",
   "execution_count": 1,
   "id": "c4951990",
   "metadata": {},
   "outputs": [
    {
     "data": {
      "text/plain": [
       "17"
      ]
     },
     "execution_count": 1,
     "metadata": {},
     "output_type": "execute_result"
    }
   ],
   "source": [
    "#This is a simple arithmetic expression to multiply then add integers\n",
    "(3*4) + 5 "
   ]
  },
  {
   "cell_type": "code",
   "execution_count": 7,
   "id": "4477bef9",
   "metadata": {},
   "outputs": [
    {
     "name": "stdout",
     "output_type": "stream",
     "text": [
      "The answer is 3.3333333333333335 hrs\n"
     ]
    }
   ],
   "source": [
    "#This will convert 200 minutes to hours by dividing by 60 \n",
    "\n",
    "def convert_hours(min):\n",
    "    hours = min/60 \n",
    "    return hours\n",
    "\n",
    "min = 200\n",
    "print(\"The answer is\", convert_hours(min), 'hrs')"
   ]
  },
  {
   "cell_type": "markdown",
   "id": "65986d17",
   "metadata": {},
   "source": [
    "## Author\n",
    "JA.R"
   ]
  },
  {
   "cell_type": "code",
   "execution_count": null,
   "id": "b2c2eed1",
   "metadata": {},
   "outputs": [],
   "source": []
  }
 ],
 "metadata": {
  "kernelspec": {
   "display_name": "Python 3 (ipykernel)",
   "language": "python",
   "name": "python3"
  },
  "language_info": {
   "codemirror_mode": {
    "name": "ipython",
    "version": 3
   },
   "file_extension": ".py",
   "mimetype": "text/x-python",
   "name": "python",
   "nbconvert_exporter": "python",
   "pygments_lexer": "ipython3",
   "version": "3.9.13"
  }
 },
 "nbformat": 4,
 "nbformat_minor": 5
}
